{
 "cells": [
  {
   "attachments": {},
   "cell_type": "markdown",
   "metadata": {},
   "source": [
    "# Bachelor Thesis: Predicting flight delays\n",
    "#### Author: Tygo Francissen, s1049742, Radboud University\n",
    "This thesis aims to predict flight delays in the United States and Brazil by using a broad scale of machine learning algorithms and transfer learning."
   ]
  },
  {
   "attachments": {},
   "cell_type": "markdown",
   "metadata": {},
   "source": [
    "1.1 Gathering the data\n",
    "----------------------\n",
    "The data sets will be gathered from "
   ]
  }
 ],
 "metadata": {
  "kernelspec": {
   "display_name": "Python 3",
   "language": "python",
   "name": "python3"
  },
  "language_info": {
   "codemirror_mode": {
    "name": "ipython",
    "version": 3
   },
   "file_extension": ".py",
   "mimetype": "text/x-python",
   "name": "python",
   "nbconvert_exporter": "python",
   "pygments_lexer": "ipython3",
   "version": "3.10.10"
  },
  "orig_nbformat": 4,
  "vscode": {
   "interpreter": {
    "hash": "57ea1b76327ded3940acf20fbde41ff9b9a6c669772851c01f8ba39617094f7a"
   }
  }
 },
 "nbformat": 4,
 "nbformat_minor": 2
}
