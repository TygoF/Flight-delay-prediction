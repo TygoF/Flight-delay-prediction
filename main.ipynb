{
 "cells": [
  {
   "attachments": {},
   "cell_type": "markdown",
   "metadata": {},
   "source": [
    "# Bachelor Thesis: Predicting flight delays\n",
    "#### Author: Tygo Francissen, s1049742, Radboud University\n",
    "This thesis aims to predict flight delays in the United States and Brazil by using a broad scale of machine learning algorithms and transfer learning."
   ]
  },
  {
   "attachments": {},
   "cell_type": "markdown",
   "metadata": {},
   "source": [
    "### 1.1 Gathering the data\n",
    "The data sets are gathered from the [Bureau of Transportation Statistics](https://www.transtats.bts.gov) and the [VRA](https://sas.anac.gov.br/sas/bav/view/frmConsultaVRA). First, we extract the data and have a look at it:"
   ]
  },
  {
   "cell_type": "code",
   "execution_count": 54,
   "metadata": {},
   "outputs": [],
   "source": [
    "from deep_translator import GoogleTranslator\n",
    "import pandas as pd\n",
    "\n",
    "# Store the data sets for January 2022\n",
    "dataBrazil = pd.read_excel('../Data/VRA_20230228124648.xlsx')\n",
    "dataUSA = pd.read_csv('../Data/T_ONTIME_REPORTING.csv')\n",
    "\n",
    "# Translate the column names of the Brazilian data set\n",
    "for i, _ in enumerate(dataBrazil.columns.values):\n",
    "    dataBrazil.columns.values[i] = GoogleTranslator(source='auto', target='en').translate(dataBrazil.columns.values[i])"
   ]
  }
 ],
 "metadata": {
  "kernelspec": {
   "display_name": "Python 3",
   "language": "python",
   "name": "python3"
  },
  "language_info": {
   "codemirror_mode": {
    "name": "ipython",
    "version": 3
   },
   "file_extension": ".py",
   "mimetype": "text/x-python",
   "name": "python",
   "nbconvert_exporter": "python",
   "pygments_lexer": "ipython3",
   "version": "3.10.10"
  },
  "orig_nbformat": 4,
  "vscode": {
   "interpreter": {
    "hash": "57ea1b76327ded3940acf20fbde41ff9b9a6c669772851c01f8ba39617094f7a"
   }
  }
 },
 "nbformat": 4,
 "nbformat_minor": 2
}
