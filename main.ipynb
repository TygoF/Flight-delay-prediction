{
 "cells": [
  {
   "attachments": {},
   "cell_type": "markdown",
   "metadata": {},
   "source": [
    "# Bachelor Thesis: Predicting flight delays\n",
    "#### Author: Tygo Francissen, s1049742, Radboud University\n",
    "This thesis aims to predict flight delays in the United States and Brazil by using a broad scale of machine learning algorithms and transfer learning."
   ]
  },
  {
   "attachments": {},
   "cell_type": "markdown",
   "metadata": {},
   "source": [
    "### 1.1 Gathering the data\n",
    "The data sets are gathered from the [Bureau of Transportation Statistics](https://www.transtats.bts.gov) and the [VRA](https://sas.anac.gov.br/sas/bav/view/frmConsultaVRA). First, we extract the data and have a look at it:"
   ]
  },
  {
   "cell_type": "code",
   "execution_count": 168,
   "metadata": {},
   "outputs": [],
   "source": [
    "import pandas as pd\n",
    "import numpy as np\n",
    "from deep_translator import GoogleTranslator\n",
    "\n",
    "# Store the data sets for January 2022\n",
    "data_brazil = pd.read_excel('../Data/VRA_20230228124648.xlsx')\n",
    "data_usa = pd.read_csv('../Data/T_ONTIME_REPORTING.csv')\n",
    "\n",
    "# Translate the column names of the Brazilian data set\n",
    "translator = GoogleTranslator(source='auto', target='en')\n",
    "for i, _ in enumerate(data_brazil.columns.values):\n",
    "    data_brazil.columns.values[i] = translator.translate(data_brazil.columns.values[i])"
   ]
  },
  {
   "cell_type": "code",
   "execution_count": 169,
   "metadata": {},
   "outputs": [],
   "source": [
    "# Create dictionary to look up full name of airline ICAO code\n",
    "values = [translator.translate(name) for name in data_brazil[\"airline\"].unique()]\n",
    "airline_code_dict = dict(zip(data_brazil[\"Acronym ICAO Airline\"].unique(), values))\n",
    "\n",
    "# Create dictionary to look up full name of airport ICAO code\n",
    "keys = pd.unique(np.concatenate((data_brazil[\"Acronym ICAO Airport Origin\"].unique(),data_brazil[\"Acronym ICAO Destiny Airport\"].unique())))\n",
    "airports = pd.unique(np.concatenate((data_brazil[\"Description Origin Airport\"].unique(),data_brazil[\"Destination Airport Description\"].unique())))\n",
    "values = [translator.translate(name) for name in airports]\n",
    "airport_code_dict = dict(zip(keys, values))"
   ]
  },
  {
   "cell_type": "code",
   "execution_count": 170,
   "metadata": {},
   "outputs": [],
   "source": [
    "# Translate remaining Brazilian words in data set\n",
    "for word in data_brazil[\"Flight Status\"].unique():\n",
    "    data_brazil[\"Flight Status\"] = data_brazil[\"Flight Status\"].replace(word, translator.translate(word))\n",
    "\n",
    "for word in data_brazil[\"Starting Status\"].unique():\n",
    "    if not type(word)==float:\n",
    "        data_brazil[\"Starting Status\"] = data_brazil[\"Starting Status\"].replace(word, translator.translate(word))\n",
    "\n",
    "for word in data_brazil[\"Arrival Status\"].unique():\n",
    "    if not type(word)==float:\n",
    "        data_brazil[\"Arrival Status\"] = data_brazil[\"Arrival Status\"].replace(word, translator.translate(word))"
   ]
  }
 ],
 "metadata": {
  "kernelspec": {
   "display_name": "Python 3",
   "language": "python",
   "name": "python3"
  },
  "language_info": {
   "codemirror_mode": {
    "name": "ipython",
    "version": 3
   },
   "file_extension": ".py",
   "mimetype": "text/x-python",
   "name": "python",
   "nbconvert_exporter": "python",
   "pygments_lexer": "ipython3",
   "version": "3.10.10"
  },
  "orig_nbformat": 4,
  "vscode": {
   "interpreter": {
    "hash": "57ea1b76327ded3940acf20fbde41ff9b9a6c669772851c01f8ba39617094f7a"
   }
  }
 },
 "nbformat": 4,
 "nbformat_minor": 2
}
